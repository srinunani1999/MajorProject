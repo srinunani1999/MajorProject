{
 "cells": [
  {
   "cell_type": "code",
   "execution_count": 1,
   "metadata": {},
   "outputs": [],
   "source": [
    "# Neccesary Imports\n",
    "from __future__ import print_function, division\n",
    "import nltk\n",
    "import os\n",
    "import random\n",
    "from collections import Counter\n",
    "from nltk import word_tokenize, WordNetLemmatizer\n",
    "from nltk.corpus import stopwords\n",
    "from nltk import NaiveBayesClassifier, classify\n",
    "import pandas as pd"
   ]
  },
  {
   "cell_type": "code",
   "execution_count": null,
   "metadata": {},
   "outputs": [],
   "source": [
    "# Initializations and functions\n",
    "stoplist = stopwords.words('english')\n",
    "\n",
    "\n",
    "def preprocess(sentence):\n",
    "    lemmatizer = WordNetLemmatizer()\n",
    "    return [lemmatizer.lemmatize(word.lower()) for word in word_tokenize(str(sentence))]\n",
    "\n",
    "def get_features(text, setting):\n",
    "    if setting=='bow':\n",
    "        return {word: count for word, count in Counter(preprocess(text)).items() if not word in stoplist}\n",
    "    else:\n",
    "        return {word: True for word in preprocess(text) if not word in stoplist}\n",
    "\n",
    "def train(features, samples_proportion):\n",
    "    train_size = int(len(features) * samples_proportion)\n",
    "    # initialise the training and test sets\n",
    "    train_set, test_set = features[:train_size], features[train_size:]\n",
    "    print ('Training set size = ' + str(len(train_set)) + ' reviews')\n",
    "    print ('Test set size = ' + str(len(test_set)) + ' reviews')\n",
    "    # train the classifier\n",
    "    classifier = NaiveBayesClassifier.train(train_set)\n",
    "    return train_set, test_set, classifier\n",
    "\n",
    "def evaluate(train_set, test_set, classifier):\n",
    "    # check how the classifier performs on the training and test sets\n",
    "    print ('Accuracy on the training set = ' + str(classify.accuracy(classifier, train_set)))\n",
    "    print ('Accuracy of the test set = ' + str(classify.accuracy(classifier, test_set)))\n",
    "    # check which words are most informative for the classifier\n",
    "    classifier.show_most_informative_features(20)"
   ]
  },
  {
   "cell_type": "code",
   "execution_count": null,
   "metadata": {},
   "outputs": [],
   "source": [
    "# Reading in the corpus\n",
    "df = pd.read_csv('data/current_data.csv')\n",
    "data = []\n",
    "# arrange data in a tuple of the format (review,label)\n",
    "for index,rows in df.iterrows():\n",
    "    a = (rows['Review'],rows['Useful'])\n",
    "    data.append(a)\n",
    "# data\n",
    "# for (each,label) in data:\n",
    "#     print(each,label)"
   ]
  },
  {
   "cell_type": "code",
   "execution_count": null,
   "metadata": {},
   "outputs": [],
   "source": [
    "# Starting training and Evaluation\n",
    "\n",
    "# feature extraction\n",
    "corpus_features = [(get_features(each,''),label) for (each,label) in data]\n",
    "print ('Collected ' + str(len(corpus_features)) + ' feature sets')\n",
    "\n",
    "# training the classifier\n",
    "train_set, test_set, classifier = train(corpus_features, 0.6)\n",
    "\n",
    "# evaluate its performance\n",
    "evaluate(train_set, test_set, classifier)\n"
   ]
  },
  {
   "cell_type": "code",
   "execution_count": null,
   "metadata": {},
   "outputs": [],
   "source": []
  }
 ],
 "metadata": {
  "kernelspec": {
   "display_name": "Python 3",
   "language": "python",
   "name": "python3"
  },
  "language_info": {
   "codemirror_mode": {
    "name": "ipython",
    "version": 3
   },
   "file_extension": ".py",
   "mimetype": "text/x-python",
   "name": "python",
   "nbconvert_exporter": "python",
   "pygments_lexer": "ipython3",
   "version": "3.6.8"
  }
 },
 "nbformat": 4,
 "nbformat_minor": 2
}
