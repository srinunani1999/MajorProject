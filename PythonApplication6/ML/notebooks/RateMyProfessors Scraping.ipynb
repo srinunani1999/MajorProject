{
 "cells": [
  {
   "cell_type": "code",
   "execution_count": 22,
   "metadata": {},
   "outputs": [
    {
     "name": "stdout",
     "output_type": "stream",
     "text": [
      "45881 2 41\n",
      "45881 3 21\n",
      "45881 4 1\n",
      "45881 5 0\n",
      "601915 2 96\n",
      "601915 3 76\n",
      "601915 4 56\n",
      "601915 5 36\n",
      "601915 6 16\n",
      "601915 7 0\n",
      "71357 2 35\n",
      "71357 3 15\n",
      "71357 4 0\n",
      "277557 2 193\n",
      "277557 3 173\n",
      "277557 4 153\n",
      "277557 5 133\n",
      "277557 6 113\n",
      "277557 7 93\n",
      "277557 8 73\n",
      "277557 9 53\n",
      "277557 10 33\n",
      "277557 11 13\n",
      "277557 12 0\n",
      "103621 2 107\n",
      "103621 3 87\n",
      "103621 4 67\n",
      "103621 5 47\n",
      "103621 6 27\n",
      "103621 7 7\n",
      "103621 8 0\n",
      "1307460 2 85\n",
      "1307460 3 65\n",
      "1307460 4 45\n",
      "1307460 5 25\n",
      "1307460 6 5\n",
      "1307460 7 0\n",
      "1141164 2 25\n",
      "1141164 3 5\n",
      "1141164 4 0\n",
      "158088 2 206\n",
      "158088 3 186\n",
      "158088 4 166\n",
      "158088 5 146\n",
      "158088 6 126\n",
      "158088 7 106\n",
      "158088 8 86\n",
      "158088 9 66\n",
      "158088 10 46\n",
      "158088 11 26\n",
      "158088 12 6\n",
      "158088 13 0\n"
     ]
    }
   ],
   "source": [
    "import requests\n",
    "\n",
    "with open('rmp.csv', 'w') as f:\n",
    "    f.write('tid,comment,quality\\n')\n",
    "    tids = [45881, 601915, 71357, 277557, 103621, 1307460, 1141164, 158088]\n",
    "    for tid in tids:\n",
    "        remaining, page = 1, 1\n",
    "        while remaining > 0:\n",
    "            url = 'http://www.ratemyprofessors.com/paginate/professors/ratings?tid={0}&page={1}'.format(tid, page)\n",
    "            lm_json = requests.get(url).json()\n",
    "            comments = []\n",
    "            qualities = []\n",
    "            for rating in lm_json['ratings']:\n",
    "                comments.append(rating['rComments'])\n",
    "                qualities.append(rating['quality'])\n",
    "            for comment, quality in zip(comments, qualities):\n",
    "                f.write('{0},\"{1}\",{2}\\n'.format(tid, comment.replace('\"', '\\''), quality))\n",
    "            remaining = lm_json['remaining']\n",
    "            page += 1\n",
    "            print(tid, page, remaining)"
   ]
  },
  {
   "cell_type": "code",
   "execution_count": 2,
   "metadata": {},
   "outputs": [],
   "source": [
    "from astropy.io import asciia\n",
    "x = ascii.read('rmp.csv', format='csv')"
   ]
  },
  {
   "cell_type": "code",
   "execution_count": 4,
   "metadata": {},
   "outputs": [
    {
     "data": {
      "text/plain": [
       "'awesome'"
      ]
     },
     "execution_count": 4,
     "metadata": {},
     "output_type": "execute_result"
    }
   ],
   "source": [
    "lm_json['ratings'][0]['quality']"
   ]
  },
  {
   "cell_type": "code",
   "execution_count": null,
   "metadata": {
    "collapsed": true
   },
   "outputs": [],
   "source": []
  }
 ],
 "metadata": {
  "kernelspec": {
   "display_name": "Python [conda root]",
   "language": "python",
   "name": "conda-root-py"
  },
  "language_info": {
   "codemirror_mode": {
    "name": "ipython",
    "version": 3
   },
   "file_extension": ".py",
   "mimetype": "text/x-python",
   "name": "python",
   "nbconvert_exporter": "python",
   "pygments_lexer": "ipython3",
   "version": "3.5.4"
  }
 },
 "nbformat": 4,
 "nbformat_minor": 2
}
