{
 "cells": [
  {
   "cell_type": "code",
   "execution_count": 2,
   "metadata": {},
   "outputs": [
    {
     "name": "stdout",
     "output_type": "stream",
     "text": [
      "Collecting astropy\n",
      "  Downloading astropy-4.0.1.post1-cp36-cp36m-win_amd64.whl (6.1 MB)\n",
      "Requirement already satisfied: numpy>=1.16 in c:\\python\\python36\\lib\\site-packages (from astropy) (1.17.0)\n",
      "Installing collected packages: astropy\n",
      "Successfully installed astropy-4.0.1.post1\n"
     ]
    }
   ],
   "source": [
    "! pip install astropy"
   ]
  },
  {
   "cell_type": "code",
   "execution_count": 3,
   "metadata": {},
   "outputs": [],
   "source": [
    "from astropy.io import ascii\n",
    "d = ascii.read('../data/rmp.csv')"
   ]
  },
  {
   "cell_type": "code",
   "execution_count": 4,
   "metadata": {},
   "outputs": [],
   "source": [
    "d.keys()\n",
    "data = []\n",
    "for row in d:\n",
    "    if row['quality'] == 'awful':\n",
    "        rating = 0\n",
    "    else:\n",
    "        rating = 1\n",
    "    data.append((row['comment'], rating))"
   ]
  },
  {
   "cell_type": "code",
   "execution_count": 5,
   "metadata": {},
   "outputs": [],
   "source": [
    "size = len(data)\n",
    "r = int((size+1)*.7)\n",
    "train = data[:r]\n",
    "test = data[r:]"
   ]
  },
  {
   "cell_type": "code",
   "execution_count": 10,
   "metadata": {},
   "outputs": [
    {
     "name": "stdout",
     "output_type": "stream",
     "text": [
      "Collecting textblob\n",
      "  Downloading textblob-0.15.3-py2.py3-none-any.whl (636 kB)\n",
      "Requirement already satisfied: nltk>=3.1 in c:\\python\\python36\\lib\\site-packages (from textblob) (3.4.5)\n",
      "Requirement already satisfied: six in c:\\python\\python36\\lib\\site-packages (from nltk>=3.1->textblob) (1.12.0)\n",
      "Installing collected packages: textblob\n",
      "Successfully installed textblob-0.15.3\n"
     ]
    }
   ],
   "source": [
    "! pip install textblob"
   ]
  },
  {
   "cell_type": "code",
   "execution_count": 11,
   "metadata": {},
   "outputs": [],
   "source": [
    "#Importing a model\n",
    "from textblob.classifiers import NaiveBayesClassifier\n",
    "\n",
    "cl = NaiveBayesClassifier(train)"
   ]
  },
  {
   "cell_type": "code",
   "execution_count": 12,
   "metadata": {},
   "outputs": [
    {
     "data": {
      "text/plain": [
       "0.8620199146514936"
      ]
     },
     "execution_count": 12,
     "metadata": {},
     "output_type": "execute_result"
    }
   ],
   "source": [
    "cl.accuracy(test)"
   ]
  },
  {
   "cell_type": "code",
   "execution_count": 24,
   "metadata": {},
   "outputs": [
    {
     "name": "stdout",
     "output_type": "stream",
     "text": [
      "Most Informative Features\n",
      "          contains(best) = True                1 : 0      =     24.9 : 1.0\n",
      "         contains(Worst) = True                0 : 1      =     17.6 : 1.0\n",
      "     contains(attention) = True                1 : 0      =     13.5 : 1.0\n",
      "        contains(period) = True                0 : 1      =     13.2 : 1.0\n",
      "         contains(AVOID) = True                0 : 1      =     11.7 : 1.0\n",
      "          contains(none) = True                0 : 1      =     11.1 : 1.0\n",
      "       contains(allowed) = True                0 : 1      =     11.1 : 1.0\n",
      "  contains(instructions) = True                0 : 1      =     11.1 : 1.0\n",
      "     contains(worthless) = True                0 : 1      =     11.1 : 1.0\n",
      "       contains(willing) = True                1 : 0      =     10.4 : 1.0\n",
      "      contains(horrible) = True                0 : 1      =     10.3 : 1.0\n",
      "           contains(GPA) = True                0 : 1      =     10.3 : 1.0\n",
      "      contains(Horrible) = True                0 : 1      =     10.0 : 1.0\n",
      "         contains(worst) = True                0 : 1      =      9.7 : 1.0\n",
      "          contains(Find) = True                0 : 1      =      9.1 : 1.0\n",
      "       contains(awesome) = True                1 : 0      =      8.4 : 1.0\n",
      "     contains(hilarious) = True                1 : 0      =      8.2 : 1.0\n",
      "           contains(BAD) = True                0 : 1      =      7.9 : 1.0\n",
      "       contains(failing) = True                0 : 1      =      7.9 : 1.0\n",
      "         contains(costs) = True                0 : 1      =      7.9 : 1.0\n",
      "      contains(arrogant) = True                0 : 1      =      7.9 : 1.0\n",
      "         contains(great) = True                1 : 0      =      7.8 : 1.0\n",
      "   contains(interesting) = True                1 : 0      =      7.7 : 1.0\n",
      "       contains(Gardner) = True                1 : 0      =      7.6 : 1.0\n",
      "         contains(Abara) = True                1 : 0      =      7.6 : 1.0\n",
      "          contains(AWAY) = True                0 : 1      =      7.4 : 1.0\n",
      "       contains(replace) = True                0 : 1      =      7.1 : 1.0\n",
      "        contains(advise) = True                0 : 1      =      7.1 : 1.0\n",
      "           contains(SHE) = True                0 : 1      =      7.1 : 1.0\n",
      "       contains(Luckily) = True                0 : 1      =      7.1 : 1.0\n",
      "          contains(five) = True                0 : 1      =      7.1 : 1.0\n",
      "           contains(ego) = True                0 : 1      =      7.1 : 1.0\n",
      "       contains(UNCLEAR) = True                0 : 1      =      7.1 : 1.0\n",
      "      contains(ANYTHING) = True                0 : 1      =      7.1 : 1.0\n",
      "         contains(reads) = True                0 : 1      =      7.1 : 1.0\n",
      "       contains(e-mails) = True                0 : 1      =      7.1 : 1.0\n",
      " contains(disrespectful) = True                0 : 1      =      7.1 : 1.0\n",
      "         contains(slide) = True                0 : 1      =      7.1 : 1.0\n",
      "         contains(TEACH) = True                0 : 1      =      7.1 : 1.0\n",
      "          contains(ECON) = True                0 : 1      =      7.1 : 1.0\n"
     ]
    }
   ],
   "source": [
    "cl.show_informative_features(40)"
   ]
  },
  {
   "cell_type": "code",
   "execution_count": 14,
   "metadata": {},
   "outputs": [],
   "source": [
    "db = ascii.read('../data/Evaluations-Binary.csv')"
   ]
  },
  {
   "cell_type": "code",
   "execution_count": 15,
   "metadata": {
    "scrolled": true
   },
   "outputs": [],
   "source": [
    "hit, miss = 0, 0\n",
    "for row in db:\n",
    "    #print(cl.classify(row['col1']), row['col2'])\n",
    "    if cl.classify(row['Review']) == row['Useful']:\n",
    "        hit += 1\n",
    "    else:\n",
    "        miss += 1\n",
    "#    for sentence in row['col1'].split('.'):\n",
    "#        if cl.classify(sentence) == 0:\n",
    "#            print(sentence)\n",
    "#            print(cl.classify(sentence), row['col2'])       "
   ]
  },
  {
   "cell_type": "code",
   "execution_count": 16,
   "metadata": {},
   "outputs": [
    {
     "name": "stdout",
     "output_type": "stream",
     "text": [
      "229 84 0.731629392971246 0.268370607028754\n"
     ]
    }
   ],
   "source": [
    "print(hit, miss, hit/(hit+miss), miss/(hit+miss))"
   ]
  },
  {
   "cell_type": "code",
   "execution_count": 22,
   "metadata": {},
   "outputs": [
    {
     "data": {
      "text/plain": [
       "1"
      ]
     },
     "execution_count": 22,
     "metadata": {},
     "output_type": "execute_result"
    }
   ],
   "source": [
    "cl.classify(\"bad\")"
   ]
  },
  {
   "cell_type": "code",
   "execution_count": null,
   "metadata": {},
   "outputs": [],
   "source": []
  }
 ],
 "metadata": {
  "kernelspec": {
   "display_name": "Python 3",
   "language": "python",
   "name": "python3"
  },
  "language_info": {
   "codemirror_mode": {
    "name": "ipython",
    "version": 3
   },
   "file_extension": ".py",
   "mimetype": "text/x-python",
   "name": "python",
   "nbconvert_exporter": "python",
   "pygments_lexer": "ipython3",
   "version": "3.6.8"
  }
 },
 "nbformat": 4,
 "nbformat_minor": 2
}
